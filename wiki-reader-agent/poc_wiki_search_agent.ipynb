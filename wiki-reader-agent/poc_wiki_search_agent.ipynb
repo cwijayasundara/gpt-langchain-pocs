{
  "nbformat": 4,
  "nbformat_minor": 0,
  "metadata": {
    "colab": {
      "provenance": []
    },
    "kernelspec": {
      "name": "python3",
      "display_name": "Python 3"
    },
    "language_info": {
      "name": "python"
    }
  },
  "cells": [
    {
      "cell_type": "code",
      "execution_count": null,
      "metadata": {
        "id": "pFTYrIm_EaE6"
      },
      "outputs": [],
      "source": [
        "!pip install -qU openai langchain gradio duckduckgo-search wikipedia"
      ]
    },
    {
      "cell_type": "code",
      "source": [
        "import openai\n",
        "import warnings\n",
        "import gradio as gr\n",
        "import warnings\n",
        "\n",
        "openai.api_key = \"\"\n",
        "\n",
        "warnings.filterwarnings('ignore')\n",
        "\n",
        "from langchain.agents import load_tools, initialize_agent\n",
        "from langchain.chat_models import ChatOpenAI\n",
        "from langchain.agents import AgentType"
      ],
      "metadata": {
        "id": "RLH-2i8SEkbT"
      },
      "execution_count": 10,
      "outputs": []
    },
    {
      "cell_type": "code",
      "source": [
        "llm = ChatOpenAI(openai_api_key=openai.api_key,temperature=0.0)\n",
        "\n",
        "tools = load_tools([\"ddg-search\", \"wikipedia\", \"python_repl\"])\n",
        "\n",
        "agent = initialize_agent(\n",
        "    tools,\n",
        "    llm,\n",
        "    agent=AgentType.CHAT_ZERO_SHOT_REACT_DESCRIPTION,\n",
        "    handle_parsing_errors=True,\n",
        "    verbose=True)"
      ],
      "metadata": {
        "id": "x6tUF7kHE3RB"
      },
      "execution_count": 11,
      "outputs": []
    },
    {
      "cell_type": "markdown",
      "source": [
        "Now build the UI using Gradio!"
      ],
      "metadata": {
        "id": "wpeOAbyFGBVe"
      }
    },
    {
      "cell_type": "code",
      "source": [
        "def query_wiki(query):\n",
        "    return agent(query)\n",
        "\n",
        "wiki_query_demo_app = gr.Interface(\n",
        "    fn=query_wiki,\n",
        "    inputs=gr.Textbox(lines=1, placeholder=\"Please Enter your search, wiki or Python code gen query here !\"),\n",
        "    outputs=\"text\",\n",
        ")\n",
        "wiki_query_demo_app.launch(debug=True)"
      ],
      "metadata": {
        "id": "Ira846bJF87m"
      },
      "execution_count": null,
      "outputs": []
    }
  ]
}