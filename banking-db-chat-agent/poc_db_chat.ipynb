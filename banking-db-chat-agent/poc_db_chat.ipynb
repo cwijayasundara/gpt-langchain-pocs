{
  "nbformat": 4,
  "nbformat_minor": 0,
  "metadata": {
    "colab": {
      "provenance": []
    },
    "kernelspec": {
      "name": "python3",
      "display_name": "Python 3"
    },
    "language_info": {
      "name": "python"
    }
  },
  "cells": [
    {
      "cell_type": "code",
      "execution_count": 60,
      "metadata": {
        "id": "iHZVtT4JEhQ6"
      },
      "outputs": [],
      "source": [
        "!pip install -qU openai langchain pandas gradio sqlalchemy"
      ]
    },
    {
      "cell_type": "code",
      "source": [
        "from sqlalchemy import MetaData\n",
        "from sqlalchemy import Column, Integer, String, Table, Date, Float\n",
        "from sqlalchemy import create_engine\n",
        "from datetime import datetime\n",
        "from sqlalchemy import insert\n",
        "\n",
        "metadata_obj = MetaData()\n",
        "\n",
        "customers = Table(\n",
        "    \"customers\",\n",
        "    metadata_obj,\n",
        "    Column(\"customer_id\", Integer, primary_key=True),\n",
        "    Column(\"customer_name\", String(50), nullable=False),\n",
        "    Column(\"customer_address\", String(200), nullable=False),\n",
        "    Column(\"date_joined\", Date, nullable=False),\n",
        ")\n",
        "accounts = Table(\n",
        "    \"accounts\",\n",
        "    metadata_obj,\n",
        "    Column(\"account_id\", Integer, primary_key=True),\n",
        "    Column(\"customer_id\", Integer),\n",
        "    Column(\"account_balance\", Float, nullable=False),\n",
        "    Column(\"date_opened\", Date, nullable=False),\n",
        ")\n",
        "\n",
        "engine = create_engine(\"sqlite:///:memory:\")\n",
        "\n",
        "observations_1 = [\n",
        "    [1, 'Tom Johns', '14, W close, Watford, WD17 5PP', datetime(1974, 1, 1)],\n",
        "    [2, 'James Arther', '234, London, LD34 P99', datetime(1950, 1, 2)]\n",
        "]\n",
        "observations_2 = [\n",
        "    [1202034, 1, 5000, datetime(2010, 1, 2)],\n",
        "    [3456782, 2, 2000, datetime(2020, 1, 2)]\n",
        "]\n",
        "\n",
        "\n",
        "def insert_obs(obs):\n",
        "    stmt = insert(customers).values(\n",
        "        customer_id=obs[0],\n",
        "        customer_name=obs[1],\n",
        "        customer_address=obs[2],\n",
        "        date_joined=obs[3]\n",
        "    )\n",
        "    with engine.begin() as conn:\n",
        "        conn.execute(stmt)\n",
        "\n",
        "\n",
        "def insert_obs_acct(obs):\n",
        "    stmt = insert(accounts).values(\n",
        "        account_id=obs[0],\n",
        "        customer_id=obs[1],\n",
        "        account_balance=obs[2],\n",
        "        date_opened=obs[3]\n",
        "    )\n",
        "    with engine.begin() as conn:\n",
        "        conn.execute(stmt)\n",
        "\n",
        "\n",
        "def set_up_db():\n",
        "    metadata_obj.create_all(engine)\n",
        "    for obs in observations_1:\n",
        "        insert_obs(obs)\n",
        "    for obs in observations_2:\n",
        "        insert_obs_acct(obs)"
      ],
      "metadata": {
        "id": "EEHLjOu9Fi49"
      },
      "execution_count": 61,
      "outputs": []
    },
    {
      "cell_type": "code",
      "source": [
        "set_up_db()"
      ],
      "metadata": {
        "id": "neQhZdF1Ft78"
      },
      "execution_count": 62,
      "outputs": []
    },
    {
      "cell_type": "code",
      "source": [
        "import openai\n",
        "import warnings\n",
        "import gradio as gr\n",
        "\n",
        "from langchain import OpenAI\n",
        "from langchain.chat_models import ChatOpenAI\n",
        "from langchain.callbacks import get_openai_callback\n",
        "from langchain.agents import Tool\n",
        "from langchain.agents import load_tools\n",
        "from langchain.memory import ConversationBufferMemory\n",
        "from langchain.agents import initialize_agent\n",
        "from langchain.sql_database import SQLDatabase\n",
        "from langchain.chains import SQLDatabaseChain\n",
        "from langchain.agents import AgentType\n",
        "\n",
        "openai.api_key = \"\"\n",
        "\n",
        "warnings.filterwarnings('ignore')\n",
        "\n",
        "# completion llm\n",
        "llm = OpenAI(\n",
        "    openai_api_key=openai.api_key,\n",
        "    temperature=0.0\n",
        ")\n",
        "\n",
        "def count_tokens(agent, query):\n",
        "    with get_openai_callback() as cb:\n",
        "        result = agent(query)\n",
        "        print(f'Spent a total of {cb.total_tokens} tokens')\n",
        "    return result\n",
        "\n",
        "db = SQLDatabase(engine)\n",
        "sql_chain = SQLDatabaseChain(llm=llm, database=db, verbose=True)\n",
        "\n",
        "sql_tool = Tool(\n",
        "    name='Banking DB',\n",
        "    func=sql_chain.run,\n",
        "    description=\"Useful for when you need to answer questions about retail banking customers \" \\\n",
        "                \"and their accounts.\"\n",
        ")\n",
        "\n",
        "tools = load_tools(\n",
        "    [\"llm-math\"],\n",
        "    llm=llm\n",
        ")\n",
        "\n",
        "tools.append(sql_tool)\n",
        "\n",
        "memory = ConversationBufferMemory(memory_key=\"chat_history\")\n",
        "\n",
        "conversational_agent = initialize_agent(\n",
        "    tools=tools,\n",
        "    llm=llm,\n",
        "    agent='conversational-react-description',\n",
        "    handle_parsing_errors=True,\n",
        "    verbose=True,\n",
        "    max_iterations=5,\n",
        "    memory=memory\n",
        ")"
      ],
      "metadata": {
        "id": "KKHOEjujGhlR"
      },
      "execution_count": 69,
      "outputs": []
    },
    {
      "cell_type": "code",
      "source": [
        "print(conversational_agent(\"What is the account balance for James?\"))"
      ],
      "metadata": {
        "colab": {
          "base_uri": "https://localhost:8080/"
        },
        "id": "XoDrlwfZWi_a",
        "outputId": "74947dd9-77a9-4468-985b-59d510e09683"
      },
      "execution_count": 70,
      "outputs": [
        {
          "output_type": "stream",
          "name": "stdout",
          "text": [
            "\n",
            "\n",
            "\u001b[1m> Entering new AgentExecutor chain...\u001b[0m\n",
            "\u001b[32;1m\u001b[1;3m\n",
            "Thought: Do I need to use a tool? Yes\n",
            "Action: Banking DB\n",
            "Action Input: Account balance for James\u001b[0m\n",
            "\n",
            "\u001b[1m> Entering new SQLDatabaseChain chain...\u001b[0m\n",
            "Account balance for James\n",
            "SQLQuery:\u001b[32;1m\u001b[1;3mSELECT \"account_balance\" FROM accounts INNER JOIN customers ON accounts.\"customer_id\" = customers.\"customer_id\" WHERE \"customer_name\" = 'James Arther'\u001b[0m\n",
            "SQLResult: \u001b[33;1m\u001b[1;3m[(2000.0,)]\u001b[0m\n",
            "Answer:\u001b[32;1m\u001b[1;3m2000.0\u001b[0m\n",
            "\u001b[1m> Finished chain.\u001b[0m\n",
            "\n",
            "Observation: \u001b[33;1m\u001b[1;3m2000.0\u001b[0m\n",
            "Thought:\u001b[32;1m\u001b[1;3m Do I need to use a tool? No\n",
            "AI: The account balance for James is 2000.0.\u001b[0m\n",
            "\n",
            "\u001b[1m> Finished chain.\u001b[0m\n",
            "{'input': 'What is the account balance for James?', 'chat_history': '', 'output': 'The account balance for James is 2000.0.'}\n"
          ]
        }
      ]
    },
    {
      "cell_type": "markdown",
      "source": [
        "Not working and needs fixing .."
      ],
      "metadata": {
        "id": "oY2xtvJxvRNt"
      }
    },
    {
      "cell_type": "code",
      "source": [
        "import gradio as gr\n",
        "\n",
        "def query_internal_db(query):\n",
        "    return conversational_agent(query)\n",
        "\n",
        "db_query_demo_app = gr.Interface(\n",
        "    fn=query_internal_db,\n",
        "    inputs=gr.Textbox(lines=1, placeholder=\"Please Enter the DB query here !\"),\n",
        "    outputs=\"text\",\n",
        ")\n",
        "db_query_demo_app.launch(debug=True)"
      ],
      "metadata": {
        "id": "7f5LqGDJugNE"
      },
      "execution_count": null,
      "outputs": []
    }
  ]
}